{
 "cells": [
  {
   "cell_type": "markdown",
   "metadata": {},
   "source": [
    "# Тестовое задание для стажеров аналитиков-технологов\n",
    "\n",
    "Необходимо разработать некоторые части приложения для учета книг в библиотеке. Описание данных, с которыми будет работать приложение – ниже."
   ]
  },
  {
   "cell_type": "markdown",
   "metadata": {},
   "source": [
    "Приложение для учета книг в библиотеке должно:\n",
    "\n",
    "1. Хранить названия книг, ФИО авторов, наименования издательств, год издания.\n",
    "2. Учитывать имеющиеся в библиотеке экземпляры конкретной книги.\n",
    "3. Учитывать студентов, которым выдавалась конкретная книга. При каждой выдаче книги студенту, фиксируется дата выдачи. При возврате – дата возврата книги."
   ]
  },
  {
   "cell_type": "markdown",
   "metadata": {},
   "source": [
    "## Задания:"
   ]
  },
  {
   "cell_type": "markdown",
   "metadata": {},
   "source": [
    "1. Опишите модель данных (в любом удобном для вас представлении) для обслуживания библиотеки. Это может быть описание таблиц с типами данных, диаграмма – что угодно."
   ]
  },
  {
   "cell_type": "markdown",
   "metadata": {},
   "source": [
    "Указанную мадель данных удобно представить в виде ER-диаграммы\n",
    "\n",
    "![ER-диаграмма БД](diag.png)"
   ]
  },
  {
   "cell_type": "markdown",
   "metadata": {},
   "source": [
    "2. Напишите SQL-запрос, который бы возвращал самого популярного автора за год. Запрос должен основываться на модели данных, которую вы описали в задании 1. "
   ]
  },
  {
   "cell_type": "markdown",
   "metadata": {},
   "source": [
    "Для наглядности, выполним указанный запрос средствами Python"
   ]
  },
  {
   "cell_type": "code",
   "execution_count": 3,
   "metadata": {},
   "outputs": [],
   "source": [
    "import psycopg2 as pg\n",
    "\n",
    "class DBexecutor:\n",
    "    \n",
    "    def __init__(self, params):\n",
    "        self.params = params\n",
    "        self.conn, self.curs = self.connect_db()\n",
    "        \n",
    "    def connect_db(self):\n",
    "        try:\n",
    "            conn = pg.connect(**self.params)\n",
    "            conn.set_session(autocommit=True)\n",
    "            if conn:\n",
    "                curs = conn.cursor()\n",
    "                return conn, curs\n",
    "        except Exception:\n",
    "            print('Ошибка подключения к БД')\n",
    "            return None, None\n",
    "        \n",
    "    def __del__(self):\n",
    "        if self.conn:\n",
    "            self.curs.close()\n",
    "            self.conn.close()"
   ]
  },
  {
   "cell_type": "code",
   "execution_count": 4,
   "metadata": {},
   "outputs": [
    {
     "output_type": "execute_result",
     "data": {
      "text/plain": "('Александр', 'Михайлович', 'Уланов')"
     },
     "metadata": {},
     "execution_count": 4
    }
   ],
   "source": [
    "params = {\n",
    "    'dbname': 'library',\n",
    "    'user': 'homutovan',\n",
    "    'password': ''\n",
    "        }\n",
    "\n",
    "db = DBexecutor(params)\n",
    "\n",
    "db.curs.execute(\"\"\"\n",
    "                select first_name, middle_name, last_name\n",
    "                from books_students bs\n",
    "                inner join books b on book_id = b.id\n",
    "                inner join author a2 on author_id = a2.id\n",
    "                inner join first_name fn on first_name_id = fn.id\n",
    "                inner join middle_name mn on middle_name_id = mn.id\n",
    "                inner join last_name ln2 on last_name_id = ln2.id\n",
    "                where bs.date_of_issue between '2020-01-01' and '2020-12-31'\n",
    "                group by first_name, middle_name, last_name order by count(bs.id) desc\n",
    "                limit 1;\n",
    "                \"\"\")\n",
    "\n",
    "db.curs.fetchall()[0]\n",
    "del db"
   ]
  },
  {
   "cell_type": "code",
   "execution_count": null,
   "metadata": {},
   "outputs": [],
   "source": []
  }
 ],
 "metadata": {
  "language_info": {
   "codemirror_mode": {
    "name": "ipython",
    "version": 3
   },
   "file_extension": ".py",
   "mimetype": "text/x-python",
   "name": "python",
   "nbconvert_exporter": "python",
   "pygments_lexer": "ipython3",
   "version": "3.8.2-final"
  },
  "orig_nbformat": 2,
  "kernelspec": {
   "name": "python38264bit5983207f564b4593899de9b3cdf65c4b",
   "display_name": "Python 3.8.2 64-bit"
  }
 },
 "nbformat": 4,
 "nbformat_minor": 2
}