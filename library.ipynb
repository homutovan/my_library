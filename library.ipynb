{
 "cells": [
  {
   "cell_type": "markdown",
   "metadata": {},
   "source": [
    "# Тестовое задание для стажеров аналитиков-технологов\n",
    "\n",
    "Необходимо разработать некоторые части приложения для учета книг в библиотеке. Описание данных, с которыми будет работать приложение – ниже."
   ]
  },
  {
   "cell_type": "markdown",
   "metadata": {},
   "source": [
    "Приложение для учета книг в библиотеке должно:\n",
    "\n",
    "1. Хранить названия книг, ФИО авторов, наименования издательств, год издания.\n",
    "2. Учитывать имеющиеся в библиотеке экземпляры конкретной книги.\n",
    "3. Учитывать студентов, которым выдавалась конкретная книга. При каждой выдаче книги студенту, фиксируется дата выдачи. При возврате – дата возврата книги."
   ]
  },
  {
   "cell_type": "markdown",
   "metadata": {},
   "source": [
    "## Задания:"
   ]
  },
  {
   "cell_type": "markdown",
   "metadata": {},
   "source": [
    "1. Опишите модель данных (в любом удобном для вас представлении) для обслуживания библиотеки. Это может быть описание таблиц с типами данных, диаграмма – что угодно."
   ]
  },
  {
   "cell_type": "markdown",
   "metadata": {},
   "source": [
    "Указанную модель данных удобно представить в виде следующей ER-диаграммы:\n",
    "\n",
    "![ER-диаграмма БД](diag.png)"
   ]
  },
  {
   "cell_type": "markdown",
   "metadata": {},
   "source": [
    "2. Напишите SQL-запрос, который бы возвращал самого популярного автора за год. Запрос должен основываться на модели данных, которую вы описали в задании 1. "
   ]
  },
  {
   "cell_type": "markdown",
   "metadata": {},
   "source": [
    "Запишем указанный запрос и, для наглядности, выполним его средствами Python:"
   ]
  },
  {
   "cell_type": "code",
   "execution_count": 59,
   "metadata": {},
   "outputs": [],
   "source": [
    "import psycopg2 as pg\n",
    "\n",
    "class DBexecutor:\n",
    "    \n",
    "    def __init__(self, params):\n",
    "        self.params = params\n",
    "        self.conn, self.curs = self.connect_db()\n",
    "        \n",
    "    def connect_db(self):\n",
    "        try:\n",
    "            conn = pg.connect(**self.params)\n",
    "            conn.set_session(autocommit=True)\n",
    "            if conn:\n",
    "                curs = conn.cursor()\n",
    "                return conn, curs\n",
    "        except Exception:\n",
    "            print('Ошибка подключения к БД')\n",
    "            return None, None\n",
    "        \n",
    "    def __del__(self):\n",
    "        if self.conn:\n",
    "            self.curs.close()\n",
    "            self.conn.close()"
   ]
  },
  {
   "cell_type": "code",
   "execution_count": 60,
   "metadata": {},
   "outputs": [
    {
     "output_type": "execute_result",
     "data": {
      "text/plain": "  first_name middle_name last_name\n0   Вячеслав    Иванович     Букур",
      "text/html": "<div>\n<style scoped>\n    .dataframe tbody tr th:only-of-type {\n        vertical-align: middle;\n    }\n\n    .dataframe tbody tr th {\n        vertical-align: top;\n    }\n\n    .dataframe thead th {\n        text-align: right;\n    }\n</style>\n<table border=\"1\" class=\"dataframe\">\n  <thead>\n    <tr style=\"text-align: right;\">\n      <th></th>\n      <th>first_name</th>\n      <th>middle_name</th>\n      <th>last_name</th>\n    </tr>\n  </thead>\n  <tbody>\n    <tr>\n      <th>0</th>\n      <td>Вячеслав</td>\n      <td>Иванович</td>\n      <td>Букур</td>\n    </tr>\n  </tbody>\n</table>\n</div>"
     },
     "metadata": {},
     "execution_count": 60
    }
   ],
   "source": [
    "params = {\n",
    "    'dbname': 'library',\n",
    "    'user': 'homutovan',\n",
    "    'password': ''\n",
    "        }\n",
    "\n",
    "db = DBexecutor(params)\n",
    "\n",
    "df = pd.read_sql(\"\"\"\n",
    "                select first_name, middle_name, last_name\n",
    "                from books_students bs\n",
    "                inner join books b on book_id = b.id\n",
    "                inner join author a2 on author_id = a2.id\n",
    "                inner join first_name fn on first_name_id = fn.id\n",
    "                inner join middle_name mn on middle_name_id = mn.id\n",
    "                inner join last_name ln2 on last_name_id = ln2.id\n",
    "                where bs.date_of_issue between '2019-01-01' and '2019-12-31'\n",
    "                group by first_name, middle_name, last_name \n",
    "                order by count(bs.id) desc\n",
    "                limit 1;\n",
    "                \"\"\", db.conn)\n",
    "\n",
    "df"
   ]
  },
  {
   "cell_type": "code",
   "execution_count": 61,
   "metadata": {},
   "outputs": [],
   "source": [
    "del db"
   ]
  },
  {
   "cell_type": "markdown",
   "metadata": {},
   "source": [
    "3. Определите понятие «злостный читатель».  Предложите алгоритм для поиска самого злостного читателя библиотеки. На любом языке программирования опишите алгоритм поиска такого читателя. Алгоритм должен основываться на модели данных, которую вы описали в задании 1."
   ]
  },
  {
   "cell_type": "markdown",
   "metadata": {},
   "source": [
    "Определим понятие «злостный читатель» - пусть «злостным» является такой читатель, который с начала года допускал задержку возврата книг, в среднем, более чем на 15 дней. Максимально допустимый срок возврата книг примем равным 30 дням. Выполним запрос для поиска таких читателей в БД:"
   ]
  },
  {
   "cell_type": "code",
   "execution_count": 215,
   "metadata": {},
   "outputs": [
    {
     "output_type": "execute_result",
     "data": {
      "text/plain": "    first_name     middle_name            last_name  \\\n0       Адольф      Нестеровна            Абрамович   \n1      Виталий         Эльевич             Агафонов   \n2     Эммануил      Самойлович             Бондарев   \n3      Татьяна     Соломоновна             Вершинин   \n4   Александра        Павлович                 Горб   \n5    Станислав       Борисовна               Козлов   \n6     Феоктист       Макарович              Куприна   \n7       Рашель       Федотович                Ляпин   \n8       Рашель      Арсеньевич  Мельников-Печерский   \n9     Анатолий  Константиновна            Назаренко   \n10      Рустам      Максимович             Наумович   \n11     Эльвира      Дамианович                Олеша   \n12     Герберт     Викентьевич              Тадтаев   \n13      Галина   Бейшеналиевич               Тотров   \n14    Всеволод         Мономах              Хамхоев   \n15        Инна      Исмаилович                  Цей   \n\n                                              faculty  \n0   Факультет автоматики и вычислительной техники ...  \n1                          Факультет энергетики (ФЭН)  \n2           Механико -технологический факультет (МТФ)  \n3               Факультет летательных аппаратов (ФЛА)  \n4         Факультет мехатроники и автоматизации (ФМА)  \n5           Механико -технологический факультет (МТФ)  \n6          Факультет радиотехники и электроники (РЭФ)  \n7               Факультет летательных аппаратов (ФЛА)  \n8   Факультет прикладной математики и информатики ...  \n9               Факультет летательных аппаратов (ФЛА)  \n10          Механико -технологический факультет (МТФ)  \n11  Факультет прикладной математики и информатики ...  \n12         Факультет радиотехники и электроники (РЭФ)  \n13               Институт социальных технологий (ИСТ)  \n14                         Факультет энергетики (ФЭН)  \n15         Факультет радиотехники и электроники (РЭФ)  ",
      "text/html": "<div>\n<style scoped>\n    .dataframe tbody tr th:only-of-type {\n        vertical-align: middle;\n    }\n\n    .dataframe tbody tr th {\n        vertical-align: top;\n    }\n\n    .dataframe thead th {\n        text-align: right;\n    }\n</style>\n<table border=\"1\" class=\"dataframe\">\n  <thead>\n    <tr style=\"text-align: right;\">\n      <th></th>\n      <th>first_name</th>\n      <th>middle_name</th>\n      <th>last_name</th>\n      <th>faculty</th>\n    </tr>\n  </thead>\n  <tbody>\n    <tr>\n      <th>0</th>\n      <td>Адольф</td>\n      <td>Нестеровна</td>\n      <td>Абрамович</td>\n      <td>Факультет автоматики и вычислительной техники ...</td>\n    </tr>\n    <tr>\n      <th>1</th>\n      <td>Виталий</td>\n      <td>Эльевич</td>\n      <td>Агафонов</td>\n      <td>Факультет энергетики (ФЭН)</td>\n    </tr>\n    <tr>\n      <th>2</th>\n      <td>Эммануил</td>\n      <td>Самойлович</td>\n      <td>Бондарев</td>\n      <td>Механико -технологический факультет (МТФ)</td>\n    </tr>\n    <tr>\n      <th>3</th>\n      <td>Татьяна</td>\n      <td>Соломоновна</td>\n      <td>Вершинин</td>\n      <td>Факультет летательных аппаратов (ФЛА)</td>\n    </tr>\n    <tr>\n      <th>4</th>\n      <td>Александра</td>\n      <td>Павлович</td>\n      <td>Горб</td>\n      <td>Факультет мехатроники и автоматизации (ФМА)</td>\n    </tr>\n    <tr>\n      <th>5</th>\n      <td>Станислав</td>\n      <td>Борисовна</td>\n      <td>Козлов</td>\n      <td>Механико -технологический факультет (МТФ)</td>\n    </tr>\n    <tr>\n      <th>6</th>\n      <td>Феоктист</td>\n      <td>Макарович</td>\n      <td>Куприна</td>\n      <td>Факультет радиотехники и электроники (РЭФ)</td>\n    </tr>\n    <tr>\n      <th>7</th>\n      <td>Рашель</td>\n      <td>Федотович</td>\n      <td>Ляпин</td>\n      <td>Факультет летательных аппаратов (ФЛА)</td>\n    </tr>\n    <tr>\n      <th>8</th>\n      <td>Рашель</td>\n      <td>Арсеньевич</td>\n      <td>Мельников-Печерский</td>\n      <td>Факультет прикладной математики и информатики ...</td>\n    </tr>\n    <tr>\n      <th>9</th>\n      <td>Анатолий</td>\n      <td>Константиновна</td>\n      <td>Назаренко</td>\n      <td>Факультет летательных аппаратов (ФЛА)</td>\n    </tr>\n    <tr>\n      <th>10</th>\n      <td>Рустам</td>\n      <td>Максимович</td>\n      <td>Наумович</td>\n      <td>Механико -технологический факультет (МТФ)</td>\n    </tr>\n    <tr>\n      <th>11</th>\n      <td>Эльвира</td>\n      <td>Дамианович</td>\n      <td>Олеша</td>\n      <td>Факультет прикладной математики и информатики ...</td>\n    </tr>\n    <tr>\n      <th>12</th>\n      <td>Герберт</td>\n      <td>Викентьевич</td>\n      <td>Тадтаев</td>\n      <td>Факультет радиотехники и электроники (РЭФ)</td>\n    </tr>\n    <tr>\n      <th>13</th>\n      <td>Галина</td>\n      <td>Бейшеналиевич</td>\n      <td>Тотров</td>\n      <td>Институт социальных технологий (ИСТ)</td>\n    </tr>\n    <tr>\n      <th>14</th>\n      <td>Всеволод</td>\n      <td>Мономах</td>\n      <td>Хамхоев</td>\n      <td>Факультет энергетики (ФЭН)</td>\n    </tr>\n    <tr>\n      <th>15</th>\n      <td>Инна</td>\n      <td>Исмаилович</td>\n      <td>Цей</td>\n      <td>Факультет радиотехники и электроники (РЭФ)</td>\n    </tr>\n  </tbody>\n</table>\n</div>"
     },
     "metadata": {},
     "execution_count": 215
    }
   ],
   "source": [
    "import pandas as pd\n",
    "\n",
    "db = DBexecutor(params)\n",
    "\n",
    "df = pd.read_sql(\"\"\"\n",
    "                select first_name, middle_name, last_name, faculty \n",
    "                from books_students bs \n",
    "                inner join student s on student_id = s.id\n",
    "                inner join first_name fn on first_name_id = fn.id\n",
    "                inner join middle_name mn on middle_name_id = mn.id\n",
    "                inner join last_name ln2 on last_name_id = ln2.id\n",
    "                inner join faculty f on faculty_id = f.id\n",
    "                where bs.date_of_issue between '2020-01-01' and '2020-06-26'\n",
    "                group by first_name, middle_name, last_name, faculty \n",
    "                having sum(date_of_return - date_of_issue - 30) / count(bs.id) > 15\n",
    "                order by last_name;\n",
    "                \"\"\", db.conn)\n",
    "df"
   ]
  },
  {
   "cell_type": "code",
   "execution_count": 63,
   "metadata": {},
   "outputs": [],
   "source": [
    "del db"
   ]
  },
  {
   "cell_type": "markdown",
   "metadata": {},
   "source": [
    "В с помощью данного запроса мы объединяем таблицы books_students, student, first_name, middle_name, last_name и faculty, группируем записи по ФИО студентов, для каждой полученной группы выполняем расчет отношения числа дней просрочки к числу записей о получении и возврате книги и фильтруем полученный результат, отсекая значения менее 15."
   ]
  },
  {
   "cell_type": "markdown",
   "metadata": {},
   "source": [
    "Аналогичного результата мы можем достичь запросив данные от БД, выполнив дальнейшую обработку средствами Python:"
   ]
  },
  {
   "cell_type": "code",
   "execution_count": 154,
   "metadata": {},
   "outputs": [],
   "source": [
    "import datetime\n",
    "\n",
    "db = DBexecutor(params)\n",
    "\n",
    "db.curs.execute(\"\"\"\n",
    "                select * \n",
    "                from books_students bs \n",
    "                inner join student s on student_id = s.id\n",
    "                inner join first_name fn on first_name_id = fn.id\n",
    "                inner join middle_name mn on middle_name_id = mn.id\n",
    "                inner join last_name ln2 on last_name_id = ln2.id\n",
    "                inner join faculty f on faculty_id = f.id\n",
    "                \"\"\")\n",
    "\n",
    "data = db.curs.fetchall()\n",
    "df = pd.DataFrame(data)\n",
    "data = df[[3, 4, 11, 13, 15, 17]]\n",
    "data.columns = ['issue', 'return', 'first_name', 'middle_name', 'last_name', 'faculty']\n",
    "filter_after = data['issue'] >= datetime.date(2020, 1, 1)\n",
    "filter_before = data['issue'] <= datetime.date(2020, 6, 26)\n",
    "data = data.loc[filter_before & filter_after]"
   ]
  },
  {
   "cell_type": "code",
   "execution_count": 219,
   "metadata": {},
   "outputs": [
    {
     "output_type": "execute_result",
     "data": {
      "text/plain": "    first_name     middle_name            last_name  \\\n                                                      \n0       Адольф      Нестеровна            Абрамович   \n1      Виталий         Эльевич             Агафонов   \n2     Эммануил      Самойлович             Бондарев   \n3      Татьяна     Соломоновна             Вершинин   \n4   Александра        Павлович                 Горб   \n5    Станислав       Борисовна               Козлов   \n6     Феоктист       Макарович              Куприна   \n7       Рашель       Федотович                Ляпин   \n8       Рашель      Арсеньевич  Мельников-Печерский   \n9     Анатолий  Константиновна            Назаренко   \n10      Рустам      Максимович             Наумович   \n11     Эльвира      Дамианович                Олеша   \n12     Герберт     Викентьевич              Тадтаев   \n13      Галина   Бейшеналиевич               Тотров   \n14    Всеволод         Мономах              Хамхоев   \n15        Инна      Исмаилович                  Цей   \n\n                                              faculty  \n                                                       \n0   Факультет автоматики и вычислительной техники ...  \n1                          Факультет энергетики (ФЭН)  \n2           Механико -технологический факультет (МТФ)  \n3               Факультет летательных аппаратов (ФЛА)  \n4         Факультет мехатроники и автоматизации (ФМА)  \n5           Механико -технологический факультет (МТФ)  \n6          Факультет радиотехники и электроники (РЭФ)  \n7               Факультет летательных аппаратов (ФЛА)  \n8   Факультет прикладной математики и информатики ...  \n9               Факультет летательных аппаратов (ФЛА)  \n10          Механико -технологический факультет (МТФ)  \n11  Факультет прикладной математики и информатики ...  \n12         Факультет радиотехники и электроники (РЭФ)  \n13               Институт социальных технологий (ИСТ)  \n14                         Факультет энергетики (ФЭН)  \n15         Факультет радиотехники и электроники (РЭФ)  ",
      "text/html": "<div>\n<style scoped>\n    .dataframe tbody tr th:only-of-type {\n        vertical-align: middle;\n    }\n\n    .dataframe tbody tr th {\n        vertical-align: top;\n    }\n\n    .dataframe thead tr th {\n        text-align: left;\n    }\n</style>\n<table border=\"1\" class=\"dataframe\">\n  <thead>\n    <tr>\n      <th></th>\n      <th>first_name</th>\n      <th>middle_name</th>\n      <th>last_name</th>\n      <th>faculty</th>\n    </tr>\n    <tr>\n      <th></th>\n      <th></th>\n      <th></th>\n      <th></th>\n      <th></th>\n    </tr>\n  </thead>\n  <tbody>\n    <tr>\n      <th>0</th>\n      <td>Адольф</td>\n      <td>Нестеровна</td>\n      <td>Абрамович</td>\n      <td>Факультет автоматики и вычислительной техники ...</td>\n    </tr>\n    <tr>\n      <th>1</th>\n      <td>Виталий</td>\n      <td>Эльевич</td>\n      <td>Агафонов</td>\n      <td>Факультет энергетики (ФЭН)</td>\n    </tr>\n    <tr>\n      <th>2</th>\n      <td>Эммануил</td>\n      <td>Самойлович</td>\n      <td>Бондарев</td>\n      <td>Механико -технологический факультет (МТФ)</td>\n    </tr>\n    <tr>\n      <th>3</th>\n      <td>Татьяна</td>\n      <td>Соломоновна</td>\n      <td>Вершинин</td>\n      <td>Факультет летательных аппаратов (ФЛА)</td>\n    </tr>\n    <tr>\n      <th>4</th>\n      <td>Александра</td>\n      <td>Павлович</td>\n      <td>Горб</td>\n      <td>Факультет мехатроники и автоматизации (ФМА)</td>\n    </tr>\n    <tr>\n      <th>5</th>\n      <td>Станислав</td>\n      <td>Борисовна</td>\n      <td>Козлов</td>\n      <td>Механико -технологический факультет (МТФ)</td>\n    </tr>\n    <tr>\n      <th>6</th>\n      <td>Феоктист</td>\n      <td>Макарович</td>\n      <td>Куприна</td>\n      <td>Факультет радиотехники и электроники (РЭФ)</td>\n    </tr>\n    <tr>\n      <th>7</th>\n      <td>Рашель</td>\n      <td>Федотович</td>\n      <td>Ляпин</td>\n      <td>Факультет летательных аппаратов (ФЛА)</td>\n    </tr>\n    <tr>\n      <th>8</th>\n      <td>Рашель</td>\n      <td>Арсеньевич</td>\n      <td>Мельников-Печерский</td>\n      <td>Факультет прикладной математики и информатики ...</td>\n    </tr>\n    <tr>\n      <th>9</th>\n      <td>Анатолий</td>\n      <td>Константиновна</td>\n      <td>Назаренко</td>\n      <td>Факультет летательных аппаратов (ФЛА)</td>\n    </tr>\n    <tr>\n      <th>10</th>\n      <td>Рустам</td>\n      <td>Максимович</td>\n      <td>Наумович</td>\n      <td>Механико -технологический факультет (МТФ)</td>\n    </tr>\n    <tr>\n      <th>11</th>\n      <td>Эльвира</td>\n      <td>Дамианович</td>\n      <td>Олеша</td>\n      <td>Факультет прикладной математики и информатики ...</td>\n    </tr>\n    <tr>\n      <th>12</th>\n      <td>Герберт</td>\n      <td>Викентьевич</td>\n      <td>Тадтаев</td>\n      <td>Факультет радиотехники и электроники (РЭФ)</td>\n    </tr>\n    <tr>\n      <th>13</th>\n      <td>Галина</td>\n      <td>Бейшеналиевич</td>\n      <td>Тотров</td>\n      <td>Институт социальных технологий (ИСТ)</td>\n    </tr>\n    <tr>\n      <th>14</th>\n      <td>Всеволод</td>\n      <td>Мономах</td>\n      <td>Хамхоев</td>\n      <td>Факультет энергетики (ФЭН)</td>\n    </tr>\n    <tr>\n      <th>15</th>\n      <td>Инна</td>\n      <td>Исмаилович</td>\n      <td>Цей</td>\n      <td>Факультет радиотехники и электроники (РЭФ)</td>\n    </tr>\n  </tbody>\n</table>\n</div>"
     },
     "metadata": {},
     "execution_count": 219
    }
   ],
   "source": [
    "data['delta'] = data['return'] - data['issue'] - pd.Timedelta(30, unit='d')\n",
    "group_data = data.groupby(['first_name', 'middle_name', 'last_name', 'faculty']).agg(['sum', 'count']).reset_index()\n",
    "group_data['av_delay'] = group_data[['delta'][0]]['sum'] / group_data[['delta'][0]]['count']\n",
    "filter_delay = group_data['av_delay'].dt.round(freq = 'D') > pd.Timedelta(15, unit='d')\n",
    "group_data.loc[filter_delay].sort_values('last_name').reset_index()[['first_name', 'middle_name', 'last_name', 'faculty']]"
   ]
  },
  {
   "cell_type": "code",
   "execution_count": null,
   "metadata": {},
   "outputs": [],
   "source": []
  }
 ],
 "metadata": {
  "language_info": {
   "codemirror_mode": {
    "name": "ipython",
    "version": 3
   },
   "file_extension": ".py",
   "mimetype": "text/x-python",
   "name": "python",
   "nbconvert_exporter": "python",
   "pygments_lexer": "ipython3",
   "version": "3.8.2-final"
  },
  "orig_nbformat": 2,
  "kernelspec": {
   "name": "python38264bit5983207f564b4593899de9b3cdf65c4b",
   "display_name": "Python 3.8.2 64-bit"
  }
 },
 "nbformat": 4,
 "nbformat_minor": 2
}