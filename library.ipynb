{
 "cells": [
  {
   "cell_type": "markdown",
   "metadata": {},
   "source": [
    "# Тестовое задание для стажеров аналитиков-технологов\n",
    "\n",
    "Необходимо разработать некоторые части приложения для учета книг в библиотеке. Описание данных, с которыми будет работать приложение – ниже."
   ]
  },
  {
   "cell_type": "markdown",
   "metadata": {},
   "source": [
    "Приложение для учета книг в библиотеке должно:\n",
    "\n",
    "1. Хранить названия книг, ФИО авторов, наименования издательств, год издания.\n",
    "2. Учитывать имеющиеся в библиотеке экземпляры конкретной книги.\n",
    "3. Учитывать студентов, которым выдавалась конкретная книга. При каждой выдаче книги студенту, фиксируется дата выдачи. При возврате – дата возврата книги."
   ]
  },
  {
   "cell_type": "markdown",
   "metadata": {},
   "source": [
    "## Задания:"
   ]
  },
  {
   "cell_type": "markdown",
   "metadata": {},
   "source": [
    "1. Опишите модель данных (в любом удобном для вас представлении) для обслуживания библиотеки. Это может быть описание таблиц с типами данных, диаграмма – что угодно."
   ]
  },
  {
   "cell_type": "markdown",
   "metadata": {},
   "source": [
    "Указанную модель данных удобно представить в виде следующей ER-диаграммы:\n",
    "\n",
    "![ER-диаграмма БД](diag.png)"
   ]
  },
  {
   "cell_type": "markdown",
   "metadata": {},
   "source": [
    "Создадим базу данных на основе данной модели:"
   ]
  },
  {
   "cell_type": "code",
   "execution_count": 1,
   "metadata": {},
   "outputs": [],
   "source": [
    "import psycopg2 as pg\n",
    "import pandas as pd\n",
    "\n",
    "class DBexecutor:\n",
    "    \n",
    "    def __init__(self, params):\n",
    "        self.params = params\n",
    "        self.conn, self.curs = self.connect_db()\n",
    "        \n",
    "    def connect_db(self):\n",
    "        try:\n",
    "            conn = pg.connect(**self.params)\n",
    "            conn.set_session(autocommit=True)\n",
    "            if conn:\n",
    "                curs = conn.cursor()\n",
    "                return conn, curs\n",
    "        except Exception:\n",
    "            print('Ошибка подключения к БД')\n",
    "            return None, None\n",
    "        \n",
    "    def __del__(self):\n",
    "        if self.conn:\n",
    "            self.curs.close()\n",
    "            self.conn.close()"
   ]
  },
  {
   "cell_type": "code",
   "execution_count": 4,
   "metadata": {},
   "outputs": [],
   "source": [
    "params = {\n",
    "    'dbname': 'library',\n",
    "    'user': 'postgres',\n",
    "    'password': ''\n",
    "        }\n",
    "\n",
    "db = DBexecutor(params)"
   ]
  },
  {
   "cell_type": "code",
   "execution_count": null,
   "metadata": {
    "scrolled": true
   },
   "outputs": [],
   "source": [
    "db_schema = [\n",
    "            \"\"\"CREATE TABLE first_name (id serial PRIMARY KEY, first_name varchar(100));\"\"\",\n",
    "            \"\"\"CREATE TABLE middle_name (id serial PRIMARY KEY, middle_name varchar(100));\"\"\",\n",
    "            \"\"\"CREATE TABLE last_name (id serial PRIMARY KEY, last_name varchar(100));\"\"\",\n",
    "            \"\"\"CREATE TABLE faculty (id serial PRIMARY KEY, faculty varchar(100));\"\"\",\n",
    "            \"\"\"CREATE TABLE book_name (id serial PRIMARY KEY, book_name varchar(100));\"\"\",\n",
    "            \"\"\"CREATE TABLE publishing (id serial PRIMARY KEY, publishing varchar(100));\"\"\",\n",
    "            \"\"\"CREATE TABLE student (id serial PRIMARY KEY, first_name_id \n",
    "                INTEGER REFERENCES first_name(id), middle_name_id \n",
    "                INTEGER REFERENCES  middle_name(id), last_name_id \n",
    "                INTEGER REFERENCES  last_name(id), faculty_id \n",
    "                INTEGER REFERENCES  faculty(id));\"\"\",\n",
    "            \"\"\"CREATE TABLE author (id serial PRIMARY KEY, first_name_id \n",
    "                INTEGER REFERENCES first_name(id), middle_name_id \n",
    "                INTEGER REFERENCES  middle_name(id), last_name_id \n",
    "                INTEGER REFERENCES  last_name(id));\"\"\",\n",
    "            \"\"\"CREATE TABLE books (id serial PRIMARY KEY, name_id \n",
    "            INTEGER REFERENCES book_name(id), author_id \n",
    "            INTEGER REFERENCES  author(id), publishing_id \n",
    "            INTEGER REFERENCES  publishing(id), year date);\"\"\",\n",
    "            \"\"\"CREATE TABLE books_students (id serial PRIMARY KEY, book_id \n",
    "            INTEGER REFERENCES books(id), student_id \n",
    "            INTEGER REFERENCES  student(id), date_of_issue date, date_of_return date);\"\"\"\n",
    "            ]\n",
    "\n",
    "for query in db_schema:\n",
    "    db.curs.execute(query)"
   ]
  },
  {
   "cell_type": "markdown",
   "metadata": {},
   "source": [
    "Наполнение базы данных происходит из файлов authors, books, publishing и faculty, соответствующий код приведен в файле parse.py"
   ]
  },
  {
   "cell_type": "markdown",
   "metadata": {},
   "source": [
    "2. Напишите SQL-запрос, который бы возвращал самого популярного автора за год. Запрос должен основываться на модели данных, которую вы описали в задании 1. "
   ]
  },
  {
   "cell_type": "markdown",
   "metadata": {},
   "source": [
    "Запишем указанный запрос и, для наглядности, выполним его средствами Python:"
   ]
  },
  {
   "cell_type": "code",
   "execution_count": 5,
   "metadata": {},
   "outputs": [
    {
     "data": {
      "text/html": [
       "<div>\n",
       "<style scoped>\n",
       "    .dataframe tbody tr th:only-of-type {\n",
       "        vertical-align: middle;\n",
       "    }\n",
       "\n",
       "    .dataframe tbody tr th {\n",
       "        vertical-align: top;\n",
       "    }\n",
       "\n",
       "    .dataframe thead th {\n",
       "        text-align: right;\n",
       "    }\n",
       "</style>\n",
       "<table border=\"1\" class=\"dataframe\">\n",
       "  <thead>\n",
       "    <tr style=\"text-align: right;\">\n",
       "      <th></th>\n",
       "      <th>first_name</th>\n",
       "      <th>middle_name</th>\n",
       "      <th>last_name</th>\n",
       "    </tr>\n",
       "  </thead>\n",
       "  <tbody>\n",
       "    <tr>\n",
       "      <th>0</th>\n",
       "      <td>Моисей</td>\n",
       "      <td>Павлович</td>\n",
       "      <td>Венгров</td>\n",
       "    </tr>\n",
       "  </tbody>\n",
       "</table>\n",
       "</div>"
      ],
      "text/plain": [
       "  first_name middle_name last_name\n",
       "0     Моисей    Павлович   Венгров"
      ]
     },
     "execution_count": 5,
     "metadata": {},
     "output_type": "execute_result"
    }
   ],
   "source": [
    "df = pd.read_sql(\"\"\"\n",
    "                select first_name, middle_name, last_name\n",
    "                from books_students bs\n",
    "                inner join books b on book_id = b.id\n",
    "                inner join author a2 on author_id = a2.id\n",
    "                inner join first_name fn on first_name_id = fn.id\n",
    "                inner join middle_name mn on middle_name_id = mn.id\n",
    "                inner join last_name ln2 on last_name_id = ln2.id\n",
    "                where bs.date_of_issue between '2019-01-01' and '2019-12-31'\n",
    "                group by first_name, middle_name, last_name \n",
    "                order by count(bs.id) desc\n",
    "                limit 1;\n",
    "                \"\"\", db.conn)\n",
    "\n",
    "df"
   ]
  },
  {
   "cell_type": "markdown",
   "metadata": {},
   "source": [
    "3. Определите понятие «злостный читатель».  Предложите алгоритм для поиска самого злостного читателя библиотеки. На любом языке программирования опишите алгоритм поиска такого читателя. Алгоритм должен основываться на модели данных, которую вы описали в задании 1."
   ]
  },
  {
   "cell_type": "markdown",
   "metadata": {},
   "source": [
    "Определим понятие «злостный читатель» - пусть «злостным» является такой читатель, который с начала года допускал задержку возврата книг, в среднем, более чем на 14 дней. Максимально допустимый срок возврата книг примем равным 30 дням. Выполним запрос для поиска таких читателей в БД:"
   ]
  },
  {
   "cell_type": "code",
   "execution_count": 6,
   "metadata": {},
   "outputs": [
    {
     "data": {
      "text/html": [
       "<div>\n",
       "<style scoped>\n",
       "    .dataframe tbody tr th:only-of-type {\n",
       "        vertical-align: middle;\n",
       "    }\n",
       "\n",
       "    .dataframe tbody tr th {\n",
       "        vertical-align: top;\n",
       "    }\n",
       "\n",
       "    .dataframe thead th {\n",
       "        text-align: right;\n",
       "    }\n",
       "</style>\n",
       "<table border=\"1\" class=\"dataframe\">\n",
       "  <thead>\n",
       "    <tr style=\"text-align: right;\">\n",
       "      <th></th>\n",
       "      <th>first_name</th>\n",
       "      <th>middle_name</th>\n",
       "      <th>last_name</th>\n",
       "      <th>faculty</th>\n",
       "    </tr>\n",
       "  </thead>\n",
       "  <tbody>\n",
       "    <tr>\n",
       "      <th>0</th>\n",
       "      <td>Вениамин</td>\n",
       "      <td>Магафурович</td>\n",
       "      <td>Айпин</td>\n",
       "      <td>Факультет радиотехники и электроники (РЭФ)</td>\n",
       "    </tr>\n",
       "    <tr>\n",
       "      <th>1</th>\n",
       "      <td>Абрам</td>\n",
       "      <td>Трифонович</td>\n",
       "      <td>Амусин</td>\n",
       "      <td>Физико-технический факультет (ФТФ)</td>\n",
       "    </tr>\n",
       "    <tr>\n",
       "      <th>2</th>\n",
       "      <td>Владимир</td>\n",
       "      <td>Вадимовна</td>\n",
       "      <td>Балков</td>\n",
       "      <td>Факультет гуманитарного образования (ФГО)</td>\n",
       "    </tr>\n",
       "    <tr>\n",
       "      <th>3</th>\n",
       "      <td>Татьяна</td>\n",
       "      <td>Лазаревич</td>\n",
       "      <td>Белецкий</td>\n",
       "      <td>Факультет гуманитарного образования (ФГО)</td>\n",
       "    </tr>\n",
       "    <tr>\n",
       "      <th>4</th>\n",
       "      <td>Валерий</td>\n",
       "      <td>Максович</td>\n",
       "      <td>Гейченко</td>\n",
       "      <td>Факультет энергетики (ФЭН)</td>\n",
       "    </tr>\n",
       "    <tr>\n",
       "      <th>5</th>\n",
       "      <td>Андрей</td>\n",
       "      <td>Матвеевич</td>\n",
       "      <td>Иванченко</td>\n",
       "      <td>Факультет летательных аппаратов (ФЛА)</td>\n",
       "    </tr>\n",
       "    <tr>\n",
       "      <th>6</th>\n",
       "      <td>Виталий</td>\n",
       "      <td>Семёновна</td>\n",
       "      <td>Мартынов</td>\n",
       "      <td>Факультет гуманитарного образования (ФГО)</td>\n",
       "    </tr>\n",
       "    <tr>\n",
       "      <th>7</th>\n",
       "      <td>Кронид</td>\n",
       "      <td>Прокопьевич</td>\n",
       "      <td>Оношко</td>\n",
       "      <td>Факультет бизнеса (ФБ)</td>\n",
       "    </tr>\n",
       "    <tr>\n",
       "      <th>8</th>\n",
       "      <td>Рувим</td>\n",
       "      <td>Бертильевич</td>\n",
       "      <td>Пельский</td>\n",
       "      <td>Факультет прикладной математики и информатики ...</td>\n",
       "    </tr>\n",
       "    <tr>\n",
       "      <th>9</th>\n",
       "      <td>Рувим</td>\n",
       "      <td>Фомич</td>\n",
       "      <td>Писахов</td>\n",
       "      <td>Факультет мехатроники и автоматизации (ФМА)</td>\n",
       "    </tr>\n",
       "    <tr>\n",
       "      <th>10</th>\n",
       "      <td>София</td>\n",
       "      <td>Арсеньевич</td>\n",
       "      <td>Черман</td>\n",
       "      <td>Механико -технологический факультет (МТФ)</td>\n",
       "    </tr>\n",
       "  </tbody>\n",
       "</table>\n",
       "</div>"
      ],
      "text/plain": [
       "   first_name  middle_name  last_name  \\\n",
       "0    Вениамин  Магафурович      Айпин   \n",
       "1       Абрам   Трифонович     Амусин   \n",
       "2    Владимир    Вадимовна     Балков   \n",
       "3     Татьяна    Лазаревич   Белецкий   \n",
       "4     Валерий     Максович   Гейченко   \n",
       "5      Андрей    Матвеевич  Иванченко   \n",
       "6     Виталий    Семёновна   Мартынов   \n",
       "7      Кронид  Прокопьевич     Оношко   \n",
       "8       Рувим  Бертильевич   Пельский   \n",
       "9       Рувим        Фомич    Писахов   \n",
       "10      София   Арсеньевич     Черман   \n",
       "\n",
       "                                              faculty  \n",
       "0          Факультет радиотехники и электроники (РЭФ)  \n",
       "1                  Физико-технический факультет (ФТФ)  \n",
       "2           Факультет гуманитарного образования (ФГО)  \n",
       "3           Факультет гуманитарного образования (ФГО)  \n",
       "4                          Факультет энергетики (ФЭН)  \n",
       "5               Факультет летательных аппаратов (ФЛА)  \n",
       "6           Факультет гуманитарного образования (ФГО)  \n",
       "7                              Факультет бизнеса (ФБ)  \n",
       "8   Факультет прикладной математики и информатики ...  \n",
       "9         Факультет мехатроники и автоматизации (ФМА)  \n",
       "10          Механико -технологический факультет (МТФ)  "
      ]
     },
     "execution_count": 6,
     "metadata": {},
     "output_type": "execute_result"
    }
   ],
   "source": [
    "db = DBexecutor(params)\n",
    "\n",
    "df = pd.read_sql(\"\"\"\n",
    "                select first_name, middle_name, last_name, faculty \n",
    "                from books_students bs \n",
    "                inner join student s on student_id = s.id\n",
    "                inner join first_name fn on first_name_id = fn.id\n",
    "                inner join middle_name mn on middle_name_id = mn.id\n",
    "                inner join last_name ln2 on last_name_id = ln2.id\n",
    "                inner join faculty f on faculty_id = f.id\n",
    "                where bs.date_of_issue between '2020-01-01' and '2020-06-26'\n",
    "                group by first_name, middle_name, last_name, faculty \n",
    "                having sum(date_of_return - date_of_issue - 30) / count(bs.id) > 14\n",
    "                order by last_name::bytea;\n",
    "                \"\"\", db.conn)\n",
    "df"
   ]
  },
  {
   "cell_type": "markdown",
   "metadata": {},
   "source": [
    "В с помощью данного запроса мы объединяем таблицы books_students, student, first_name, middle_name, last_name и faculty, группируем записи по ФИО студентов, для каждой полученной группы выполняем расчет отношения числа дней просрочки к числу записей о получении и возврате книги и фильтруем полученный результат, отсекая значения менее 14."
   ]
  },
  {
   "cell_type": "markdown",
   "metadata": {},
   "source": [
    "Аналогичного результата мы можем достичь запросив данные из БД и выполнив дальнейшую обработку средствами Python:"
   ]
  },
  {
   "cell_type": "code",
   "execution_count": 7,
   "metadata": {},
   "outputs": [],
   "source": [
    "import datetime\n",
    "\n",
    "db = DBexecutor(params)\n",
    "\n",
    "df = pd.read_sql(\"\"\"\n",
    "                select * \n",
    "                from books_students bs \n",
    "                inner join student s on student_id = s.id\n",
    "                inner join first_name fn on first_name_id = fn.id\n",
    "                inner join middle_name mn on middle_name_id = mn.id\n",
    "                inner join last_name ln2 on last_name_id = ln2.id\n",
    "                inner join faculty f on faculty_id = f.id\n",
    "                \"\"\", db.conn)\n",
    "data = df[['date_of_issue', 'date_of_return', 'first_name', 'middle_name', 'last_name', 'faculty']]\n",
    "filter_after = data['date_of_issue'] >= datetime.date(2020, 1, 1)\n",
    "filter_before = data['date_of_issue'] <= datetime.date(2020, 6, 26)\n",
    "data = data.loc[filter_before & filter_after]"
   ]
  },
  {
   "cell_type": "code",
   "execution_count": 8,
   "metadata": {},
   "outputs": [
    {
     "data": {
      "text/html": [
       "<div>\n",
       "<style scoped>\n",
       "    .dataframe tbody tr th:only-of-type {\n",
       "        vertical-align: middle;\n",
       "    }\n",
       "\n",
       "    .dataframe tbody tr th {\n",
       "        vertical-align: top;\n",
       "    }\n",
       "\n",
       "    .dataframe thead tr th {\n",
       "        text-align: left;\n",
       "    }\n",
       "</style>\n",
       "<table border=\"1\" class=\"dataframe\">\n",
       "  <thead>\n",
       "    <tr>\n",
       "      <th></th>\n",
       "      <th>first_name</th>\n",
       "      <th>middle_name</th>\n",
       "      <th>last_name</th>\n",
       "      <th>faculty</th>\n",
       "    </tr>\n",
       "    <tr>\n",
       "      <th></th>\n",
       "      <th></th>\n",
       "      <th></th>\n",
       "      <th></th>\n",
       "      <th></th>\n",
       "    </tr>\n",
       "  </thead>\n",
       "  <tbody>\n",
       "    <tr>\n",
       "      <th>0</th>\n",
       "      <td>Вениамин</td>\n",
       "      <td>Магафурович</td>\n",
       "      <td>Айпин</td>\n",
       "      <td>Факультет радиотехники и электроники (РЭФ)</td>\n",
       "    </tr>\n",
       "    <tr>\n",
       "      <th>1</th>\n",
       "      <td>Абрам</td>\n",
       "      <td>Трифонович</td>\n",
       "      <td>Амусин</td>\n",
       "      <td>Физико-технический факультет (ФТФ)</td>\n",
       "    </tr>\n",
       "    <tr>\n",
       "      <th>2</th>\n",
       "      <td>Владимир</td>\n",
       "      <td>Вадимовна</td>\n",
       "      <td>Балков</td>\n",
       "      <td>Факультет гуманитарного образования (ФГО)</td>\n",
       "    </tr>\n",
       "    <tr>\n",
       "      <th>3</th>\n",
       "      <td>Татьяна</td>\n",
       "      <td>Лазаревич</td>\n",
       "      <td>Белецкий</td>\n",
       "      <td>Факультет гуманитарного образования (ФГО)</td>\n",
       "    </tr>\n",
       "    <tr>\n",
       "      <th>4</th>\n",
       "      <td>Валерий</td>\n",
       "      <td>Максович</td>\n",
       "      <td>Гейченко</td>\n",
       "      <td>Факультет энергетики (ФЭН)</td>\n",
       "    </tr>\n",
       "    <tr>\n",
       "      <th>5</th>\n",
       "      <td>Андрей</td>\n",
       "      <td>Матвеевич</td>\n",
       "      <td>Иванченко</td>\n",
       "      <td>Факультет летательных аппаратов (ФЛА)</td>\n",
       "    </tr>\n",
       "    <tr>\n",
       "      <th>6</th>\n",
       "      <td>Виталий</td>\n",
       "      <td>Семёновна</td>\n",
       "      <td>Мартынов</td>\n",
       "      <td>Факультет гуманитарного образования (ФГО)</td>\n",
       "    </tr>\n",
       "    <tr>\n",
       "      <th>7</th>\n",
       "      <td>Кронид</td>\n",
       "      <td>Прокопьевич</td>\n",
       "      <td>Оношко</td>\n",
       "      <td>Факультет бизнеса (ФБ)</td>\n",
       "    </tr>\n",
       "    <tr>\n",
       "      <th>8</th>\n",
       "      <td>Рувим</td>\n",
       "      <td>Бертильевич</td>\n",
       "      <td>Пельский</td>\n",
       "      <td>Факультет прикладной математики и информатики ...</td>\n",
       "    </tr>\n",
       "    <tr>\n",
       "      <th>9</th>\n",
       "      <td>Рувим</td>\n",
       "      <td>Фомич</td>\n",
       "      <td>Писахов</td>\n",
       "      <td>Факультет мехатроники и автоматизации (ФМА)</td>\n",
       "    </tr>\n",
       "    <tr>\n",
       "      <th>10</th>\n",
       "      <td>София</td>\n",
       "      <td>Арсеньевич</td>\n",
       "      <td>Черман</td>\n",
       "      <td>Механико -технологический факультет (МТФ)</td>\n",
       "    </tr>\n",
       "  </tbody>\n",
       "</table>\n",
       "</div>"
      ],
      "text/plain": [
       "   first_name  middle_name  last_name  \\\n",
       "                                        \n",
       "0    Вениамин  Магафурович      Айпин   \n",
       "1       Абрам   Трифонович     Амусин   \n",
       "2    Владимир    Вадимовна     Балков   \n",
       "3     Татьяна    Лазаревич   Белецкий   \n",
       "4     Валерий     Максович   Гейченко   \n",
       "5      Андрей    Матвеевич  Иванченко   \n",
       "6     Виталий    Семёновна   Мартынов   \n",
       "7      Кронид  Прокопьевич     Оношко   \n",
       "8       Рувим  Бертильевич   Пельский   \n",
       "9       Рувим        Фомич    Писахов   \n",
       "10      София   Арсеньевич     Черман   \n",
       "\n",
       "                                              faculty  \n",
       "                                                       \n",
       "0          Факультет радиотехники и электроники (РЭФ)  \n",
       "1                  Физико-технический факультет (ФТФ)  \n",
       "2           Факультет гуманитарного образования (ФГО)  \n",
       "3           Факультет гуманитарного образования (ФГО)  \n",
       "4                          Факультет энергетики (ФЭН)  \n",
       "5               Факультет летательных аппаратов (ФЛА)  \n",
       "6           Факультет гуманитарного образования (ФГО)  \n",
       "7                              Факультет бизнеса (ФБ)  \n",
       "8   Факультет прикладной математики и информатики ...  \n",
       "9         Факультет мехатроники и автоматизации (ФМА)  \n",
       "10          Механико -технологический факультет (МТФ)  "
      ]
     },
     "execution_count": 8,
     "metadata": {},
     "output_type": "execute_result"
    }
   ],
   "source": [
    "data['delta'] = data['date_of_return'] - data['date_of_issue'] - pd.Timedelta(30, unit='d')\n",
    "group_data = data.groupby(['first_name', 'middle_name', 'last_name', 'faculty']).agg(['sum', 'count']).reset_index()\n",
    "group_data['av_delay'] = group_data[['delta'][0]]['sum'] / group_data[['delta'][0]]['count']\n",
    "filter_delay = group_data['av_delay'].dt.round(freq = 'D') > pd.Timedelta(14, unit='d')\n",
    "group_data.loc[filter_delay].sort_values('last_name').reset_index()[['first_name', 'middle_name', 'last_name', 'faculty']]"
   ]
  },
  {
   "cell_type": "code",
   "execution_count": null,
   "metadata": {},
   "outputs": [],
   "source": [
    "del db"
   ]
  }
 ],
 "metadata": {
  "kernelspec": {
   "display_name": "Python 3.8.2 64-bit",
   "language": "python",
   "name": "python38264bit5983207f564b4593899de9b3cdf65c4b"
  },
  "language_info": {
   "codemirror_mode": {
    "name": "ipython",
    "version": 3
   },
   "file_extension": ".py",
   "mimetype": "text/x-python",
   "name": "python",
   "nbconvert_exporter": "python",
   "pygments_lexer": "ipython3",
   "version": "3.8.2"
  }
 },
 "nbformat": 4,
 "nbformat_minor": 2
}
